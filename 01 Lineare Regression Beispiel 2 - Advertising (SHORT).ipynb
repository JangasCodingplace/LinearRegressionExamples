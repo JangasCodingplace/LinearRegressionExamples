{
 "cells": [
  {
   "cell_type": "markdown",
   "metadata": {},
   "source": [
    "# Lineare Regression Beispiel 2 - Advertising"
   ]
  },
  {
   "cell_type": "markdown",
   "metadata": {},
   "source": [
    "Eine Firma hat einige Werbespots und Anzeigen für TV, Radio und Zeitung produziert. Um die Performance der Werbung zu steigern und Kosten zu minimieren, wirst du damit beauftragt eine möglichst effiziente Planung aufzustellen."
   ]
  },
  {
   "cell_type": "markdown",
   "metadata": {},
   "source": [
    "## Requirements"
   ]
  },
  {
   "cell_type": "markdown",
   "metadata": {},
   "source": [
    "Dieses Beispiel entstammt dem begleitenden Lehrbuch [An Introduction to Statistical Learning](https://faculty.marshall.usc.edu/gareth-james/ISL/ISLR%20Seventh%20Printing.pdf) und dem dazugehörigen Datensatz _Advertising.csv_. Diesen kannst du dir [hier](http://faculty.marshall.usc.edu/gareth-james/ISL/data.html) herunterladen.\n",
    "\n",
    "Du solltest die Bibliotheken Pandas, Numpy, Seaborn, Matplotlib und ScikitLearn installiert haben."
   ]
  },
  {
   "cell_type": "markdown",
   "metadata": {},
   "source": [
    "## Intro"
   ]
  },
  {
   "cell_type": "markdown",
   "metadata": {},
   "source": [
    "Wie einleitend bereits erwähnt wird Werbung geschaltet. Da diese Werbung Geld kostet und nicht jedes Medium gleichermaßen funktioniert, muss ermittelt werden welchem Medium welche Aufmerksamkeit gewipnet wird."
   ]
  },
  {
   "cell_type": "markdown",
   "metadata": {},
   "source": [
    "## Datainput"
   ]
  },
  {
   "cell_type": "markdown",
   "metadata": {},
   "source": [
    "Als Datenquelle wird die Datei `Advertising.csv` aus dem lokalen Verzeichnis `data` genutzt. Falls du die csv nicht verfügbar hast, kannst du sie [hier](http://faculty.marshall.usc.edu/gareth-james/ISL/data.html) herunterladen."
   ]
  },
  {
   "cell_type": "code",
   "execution_count": 1,
   "metadata": {},
   "outputs": [],
   "source": [
    "import pandas as pd\n",
    "import seaborn as sns\n",
    "import numpy as np"
   ]
  },
  {
   "cell_type": "code",
   "execution_count": 2,
   "metadata": {},
   "outputs": [
    {
     "data": {
      "text/html": [
       "<div>\n",
       "<style scoped>\n",
       "    .dataframe tbody tr th:only-of-type {\n",
       "        vertical-align: middle;\n",
       "    }\n",
       "\n",
       "    .dataframe tbody tr th {\n",
       "        vertical-align: top;\n",
       "    }\n",
       "\n",
       "    .dataframe thead th {\n",
       "        text-align: right;\n",
       "    }\n",
       "</style>\n",
       "<table border=\"1\" class=\"dataframe\">\n",
       "  <thead>\n",
       "    <tr style=\"text-align: right;\">\n",
       "      <th></th>\n",
       "      <th>TV</th>\n",
       "      <th>radio</th>\n",
       "      <th>newspaper</th>\n",
       "      <th>sales</th>\n",
       "    </tr>\n",
       "  </thead>\n",
       "  <tbody>\n",
       "    <tr>\n",
       "      <th>1</th>\n",
       "      <td>230.1</td>\n",
       "      <td>37.8</td>\n",
       "      <td>69.2</td>\n",
       "      <td>22.1</td>\n",
       "    </tr>\n",
       "    <tr>\n",
       "      <th>2</th>\n",
       "      <td>44.5</td>\n",
       "      <td>39.3</td>\n",
       "      <td>45.1</td>\n",
       "      <td>10.4</td>\n",
       "    </tr>\n",
       "    <tr>\n",
       "      <th>3</th>\n",
       "      <td>17.2</td>\n",
       "      <td>45.9</td>\n",
       "      <td>69.3</td>\n",
       "      <td>9.3</td>\n",
       "    </tr>\n",
       "    <tr>\n",
       "      <th>4</th>\n",
       "      <td>151.5</td>\n",
       "      <td>41.3</td>\n",
       "      <td>58.5</td>\n",
       "      <td>18.5</td>\n",
       "    </tr>\n",
       "    <tr>\n",
       "      <th>5</th>\n",
       "      <td>180.8</td>\n",
       "      <td>10.8</td>\n",
       "      <td>58.4</td>\n",
       "      <td>12.9</td>\n",
       "    </tr>\n",
       "  </tbody>\n",
       "</table>\n",
       "</div>"
      ],
      "text/plain": [
       "      TV  radio  newspaper  sales\n",
       "1  230.1   37.8       69.2   22.1\n",
       "2   44.5   39.3       45.1   10.4\n",
       "3   17.2   45.9       69.3    9.3\n",
       "4  151.5   41.3       58.5   18.5\n",
       "5  180.8   10.8       58.4   12.9"
      ]
     },
     "execution_count": 2,
     "metadata": {},
     "output_type": "execute_result"
    }
   ],
   "source": [
    "# index_col=0 ist ein optionaler Parameter. Die CSV verfügt bereits über eine Nummerierung.\n",
    "# um hier keine doppelte Nummerierung zu haben, wird der Index festgelegt.\n",
    "# Das hat keine Auswirkung auf weiteres vorgehen.\n",
    "# Du kannst index_col=0 mal entfernen und schauen wie es ohne aussieht.\n",
    "advertising_df = pd.read_csv('data/Advertising.csv', index_col=0)\n",
    "advertising_df.head()"
   ]
  },
  {
   "cell_type": "markdown",
   "metadata": {},
   "source": [
    "## Datenaufbereitung und Verständnis"
   ]
  },
  {
   "cell_type": "code",
   "execution_count": 3,
   "metadata": {},
   "outputs": [
    {
     "data": {
      "text/plain": [
       "(200, 4)"
      ]
     },
     "execution_count": 3,
     "metadata": {},
     "output_type": "execute_result"
    }
   ],
   "source": [
    "# Gibt Dimension der Tabelle als Tupel an\n",
    "# Anzahl der Reihen (exklusive header), Anzahl der Spalten (exclusive Indexspalte)\n",
    "\n",
    "advertising_df.shape"
   ]
  },
  {
   "cell_type": "code",
   "execution_count": 4,
   "metadata": {},
   "outputs": [
    {
     "data": {
      "text/plain": [
       "Index(['TV', 'radio', 'newspaper', 'sales'], dtype='object')"
      ]
     },
     "execution_count": 4,
     "metadata": {},
     "output_type": "execute_result"
    }
   ],
   "source": [
    "# Spaltenbezeichungen\n",
    "\n",
    "advertising_df.columns"
   ]
  },
  {
   "cell_type": "code",
   "execution_count": 5,
   "metadata": {},
   "outputs": [
    {
     "data": {
      "text/plain": [
       "TV           float64\n",
       "radio        float64\n",
       "newspaper    float64\n",
       "sales        float64\n",
       "dtype: object"
      ]
     },
     "execution_count": 5,
     "metadata": {},
     "output_type": "execute_result"
    }
   ],
   "source": [
    "# Typisierung\n",
    "# **WICHTIG** es ist eine initiale typisierung von Pandas und muss nicht immer stimmen\n",
    "\n",
    "advertising_df.dtypes"
   ]
  },
  {
   "cell_type": "code",
   "execution_count": 6,
   "metadata": {},
   "outputs": [
    {
     "name": "stdout",
     "output_type": "stream",
     "text": [
      "Nullwerte TV: 0\n",
      "Nullwerte radio: 0\n",
      "Nullwerte newspaper: 0\n",
      "Nullwerte sales: 0\n"
     ]
    }
   ],
   "source": [
    "# Nullwerte\n",
    "# In diesem Datensatz sind keine Nullwerte vorhanden.\n",
    "# Wäre etwas anderes der Fall, müsste überlegt werden, wie damit umgegangen wird.\n",
    "\n",
    "for column in advertising_df.columns:\n",
    "    none_values = advertising_df[str(column)].isna().sum()\n",
    "    print(f\"Nullwerte {column}: {none_values}\")"
   ]
  },
  {
   "cell_type": "code",
   "execution_count": 7,
   "metadata": {},
   "outputs": [
    {
     "name": "stdout",
     "output_type": "stream",
     "text": [
      "Minimaler Sales Wert: 1.6\n",
      "Maximaler Sales Wert: 27.0\n",
      "Durchschnittlicher Sales Wert: 14.0225\n"
     ]
    }
   ],
   "source": [
    "print(f\"Minimaler Sales Wert: {advertising_df['sales'].min()}\")\n",
    "print(f\"Maximaler Sales Wert: {advertising_df['sales'].max()}\")\n",
    "print(f\"Durchschnittlicher Sales Wert: {advertising_df['sales'].mean()}\")"
   ]
  },
  {
   "cell_type": "code",
   "execution_count": 8,
   "metadata": {},
   "outputs": [
    {
     "data": {
      "text/plain": [
       "<seaborn.axisgrid.PairGrid at 0x7fce4c97b6d0>"
      ]
     },
     "execution_count": 8,
     "metadata": {},
     "output_type": "execute_result"
    },
    {
     "data": {
      "image/png": "[encoded data removed]",
      "text/plain": [
       "<Figure size 1296x432 with 3 Axes>"
      ]
     },
     "metadata": {
      "needs_background": "light"
     },
     "output_type": "display_data"
    }
   ],
   "source": [
    "# Scatter-Regressionsplot\n",
    "# es wird visuell deutlich welche Features sich zur Regression eignen\n",
    "\n",
    "sns.pairplot(\n",
    "    x_vars=['TV', 'radio', 'newspaper'],\n",
    "    y_vars='sales',\n",
    "    data=advertising_df,\n",
    "    height=6,\n",
    "    kind='reg'\n",
    ")"
   ]
  },
  {
   "cell_type": "markdown",
   "metadata": {},
   "source": [
    "## Modellierung"
   ]
  },
  {
   "cell_type": "markdown",
   "metadata": {},
   "source": [
    "### Dataframe in Trainings und Testdaten splitten"
   ]
  },
  {
   "cell_type": "code",
   "execution_count": 9,
   "metadata": {},
   "outputs": [],
   "source": [
    "from sklearn.model_selection import train_test_split"
   ]
  },
  {
   "cell_type": "code",
   "execution_count": 10,
   "metadata": {},
   "outputs": [],
   "source": [
    "feature_cols = ['TV', 'radio', 'newspaper']"
   ]
  },
  {
   "cell_type": "code",
   "execution_count": 11,
   "metadata": {},
   "outputs": [],
   "source": [
    "X = advertising_df[feature_cols]"
   ]
  },
  {
   "cell_type": "code",
   "execution_count": 12,
   "metadata": {},
   "outputs": [],
   "source": [
    "target_col = 'sales'"
   ]
  },
  {
   "cell_type": "code",
   "execution_count": 13,
   "metadata": {},
   "outputs": [],
   "source": [
    "y = advertising_df[target_col]"
   ]
  },
  {
   "cell_type": "code",
   "execution_count": 14,
   "metadata": {},
   "outputs": [],
   "source": [
    "# Default Split: 75% Training - 25% test\n",
    "X_train, X_test, y_train, y_test = train_test_split(X, y, random_state=1)"
   ]
  },
  {
   "cell_type": "markdown",
   "metadata": {},
   "source": [
    "### Lineare Regression"
   ]
  },
  {
   "cell_type": "code",
   "execution_count": 15,
   "metadata": {},
   "outputs": [],
   "source": [
    "from sklearn.linear_model import LinearRegression\n",
    "from sklearn.metrics import mean_squared_error, r2_score"
   ]
  },
  {
   "cell_type": "code",
   "execution_count": 16,
   "metadata": {},
   "outputs": [
    {
     "data": {
      "text/plain": [
       "LinearRegression(copy_X=True, fit_intercept=True, n_jobs=None, normalize=False)"
      ]
     },
     "execution_count": 16,
     "metadata": {},
     "output_type": "execute_result"
    }
   ],
   "source": [
    "# Lineare Regression\n",
    "\n",
    "regr = LinearRegression()\n",
    "regr.fit(X_train, y_train)"
   ]
  },
  {
   "cell_type": "code",
   "execution_count": 17,
   "metadata": {},
   "outputs": [],
   "source": [
    "# Vorhersage der Testdaten\n",
    "\n",
    "y_pred = regr.predict(X_test)"
   ]
  },
  {
   "cell_type": "code",
   "execution_count": 18,
   "metadata": {},
   "outputs": [
    {
     "name": "stdout",
     "output_type": "stream",
     "text": [
      "Mittlere quadratische Abweichung: 1.97\n",
      "Determinationskoeffizient (Bestimmtheitsmaß): 0.92\n"
     ]
    }
   ],
   "source": [
    "print('Mittlere quadratische Abweichung: %.2f' % mean_squared_error(y_test, y_pred))\n",
    "print('Determinationskoeffizient (Bestimmtheitsmaß): %.2f' % r2_score(y_test, y_pred))"
   ]
  },
  {
   "cell_type": "markdown",
   "metadata": {},
   "source": [
    "### Output"
   ]
  },
  {
   "cell_type": "markdown",
   "metadata": {},
   "source": [
    "#### Fragestellung 1 - Welche Sales werden bei einer beliebigen Konfiguration aus Werbeanzeigen in den gegebenen Medien erwartungsgemäß definiert?"
   ]
  },
  {
   "cell_type": "code",
   "execution_count": 19,
   "metadata": {},
   "outputs": [],
   "source": [
    "# Wähle eine Beliebige Konfiguration\n",
    "\n",
    "X_q_1 = [[145.5, 39.5, 67.1]]"
   ]
  },
  {
   "cell_type": "code",
   "execution_count": 20,
   "metadata": {},
   "outputs": [
    {
     "name": "stdout",
     "output_type": "stream",
     "text": [
      "Zu den Werten     TV: 145.5,     radio: 39.5,     newspaper: 67.1     \n",
      "wird folgender Sales-Wert erwartet: 16.9604 +- 1.973\n"
     ]
    }
   ],
   "source": [
    "# Erstelle die Prognose\n",
    "\n",
    "y_q_1 = regr.predict(X_q_1)\n",
    "print(\n",
    "    f\"Zu den Werten \\\n",
    "    TV: {X_q_1[0][0]}, \\\n",
    "    radio: {X_q_1[0][1]}, \\\n",
    "    newspaper: {X_q_1[0][2]} \\\n",
    "    \\nwird folgender Sales-Wert erwartet: {round(y_q_1[0],4)} +- {round(mean_squared_error(y_test, y_pred),4)}\"\n",
    ")"
   ]
  },
  {
   "cell_type": "markdown",
   "metadata": {},
   "source": [
    "## Quellen für dieses Notebook:"
   ]
  },
  {
   "cell_type": "markdown",
   "metadata": {},
   "source": [
    "- https://faculty.marshall.usc.edu/gareth-james/ISL/ISLR%20Seventh%20Printing.pdf\n",
    "- http://faculty.marshall.usc.edu/gareth-james/ISL/data.html\n",
    "- https://www.youtube.com/watch?v=JJaNjjRWZXw\n",
    "- https://www.youtube.com/watch?v=IsRRvEoIQ4k\n",
    "- https://scikit-learn.org/stable/auto_examples/linear_model/plot_ols.html"
   ]
  },
  {
   "cell_type": "code",
   "execution_count": null,
   "metadata": {},
   "outputs": [],
   "source": []
  }
 ],
 "metadata": {
  "kernelspec": {
   "display_name": "Python 3",
   "language": "python",
   "name": "python3"
  },
  "language_info": {
   "codemirror_mode": {
    "name": "ipython",
    "version": 3
   },
   "file_extension": ".py",
   "mimetype": "text/x-python",
   "name": "python",
   "nbconvert_exporter": "python",
   "pygments_lexer": "ipython3",
   "version": "3.7.6"
  }
 },
 "nbformat": 4,
 "nbformat_minor": 4
}
